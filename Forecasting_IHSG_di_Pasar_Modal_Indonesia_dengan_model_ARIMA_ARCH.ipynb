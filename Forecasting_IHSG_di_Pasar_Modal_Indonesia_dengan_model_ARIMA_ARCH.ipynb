{
  "nbformat": 4,
  "nbformat_minor": 0,
  "metadata": {
    "colab": {
      "provenance": [],
      "authorship_tag": "ABX9TyMkwxWf2TZ9Q6rEpSSVqWdA",
      "include_colab_link": true
    },
    "kernelspec": {
      "name": "ir",
      "display_name": "R"
    },
    "language_info": {
      "name": "R"
    }
  },
  "cells": [
    {
      "cell_type": "markdown",
      "metadata": {
        "id": "view-in-github",
        "colab_type": "text"
      },
      "source": [
        "<a href=\"https://colab.research.google.com/github/inezaurelliaa/Project-Ekonometri/blob/main/Forecasting_IHSG_di_Pasar_Modal_Indonesia_dengan_model_ARIMA_ARCH.ipynb\" target=\"_parent\"><img src=\"https://colab.research.google.com/assets/colab-badge.svg\" alt=\"Open In Colab\"/></a>"
      ]
    },
    {
      "cell_type": "code",
      "execution_count": null,
      "metadata": {
        "id": "RplB6lbPRkJ8"
      },
      "outputs": [],
      "source": []
    }
  ]
}